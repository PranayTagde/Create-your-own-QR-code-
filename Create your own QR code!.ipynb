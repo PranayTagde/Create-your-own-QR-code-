{
 "cells": [
  {
   "cell_type": "code",
   "execution_count": 1,
   "id": "469be745",
   "metadata": {},
   "outputs": [],
   "source": [
    "import numpy as np # linear algebra\n",
    "import pandas as pd # data processing, CSV file I/O (e.g. pd.read_csv)\n",
    "\n",
    "import os\n",
    "for dirname, _, filenames in os.walk('/kaggle/input'):\n",
    "    for filename in filenames:\n",
    "        print(os.path.join(dirname, filename))"
   ]
  },
  {
   "cell_type": "markdown",
   "id": "93a77897",
   "metadata": {},
   "source": [
    "QRcode Module\n",
    "\n",
    "We know QRCode is used to provide easy access to online information through the digital camera on a smartphone or tablet. So let's go and create a QRCode of our own!"
   ]
  },
  {
   "cell_type": "markdown",
   "id": "38bd434f",
   "metadata": {},
   "source": [
    "Let's install QRcode module first. Along with that we need to install image module to display images on screen!"
   ]
  },
  {
   "cell_type": "code",
   "execution_count": 2,
   "id": "e62392a2",
   "metadata": {},
   "outputs": [
    {
     "name": "stdout",
     "output_type": "stream",
     "text": [
      "Collecting qrcode\n",
      "  Using cached qrcode-8.2-py3-none-any.whl.metadata (17 kB)\n",
      "Requirement already satisfied: colorama in c:\\users\\nilay\\anaconda3\\lib\\site-packages (from qrcode) (0.4.6)\n",
      "Using cached qrcode-8.2-py3-none-any.whl (45 kB)\n",
      "Installing collected packages: qrcode\n",
      "Successfully installed qrcode-8.2\n",
      "Note: you may need to restart the kernel to use updated packages.\n"
     ]
    }
   ],
   "source": [
    "pip install qrcode"
   ]
  },
  {
   "cell_type": "code",
   "execution_count": 3,
   "id": "3477db28",
   "metadata": {},
   "outputs": [
    {
     "name": "stdout",
     "output_type": "stream",
     "text": [
      "Collecting image\n",
      "  Downloading image-1.5.33.tar.gz (15 kB)\n",
      "  Preparing metadata (setup.py): started\n",
      "  Preparing metadata (setup.py): finished with status 'done'\n",
      "Requirement already satisfied: pillow in c:\\users\\nilay\\anaconda3\\lib\\site-packages (from image) (10.2.0)\n",
      "Collecting django (from image)\n",
      "  Downloading django-5.2.3-py3-none-any.whl.metadata (4.1 kB)\n",
      "Requirement already satisfied: six in c:\\users\\nilay\\anaconda3\\lib\\site-packages (from image) (1.16.0)\n",
      "Collecting asgiref>=3.8.1 (from django->image)\n",
      "  Downloading asgiref-3.8.1-py3-none-any.whl.metadata (9.3 kB)\n",
      "Collecting sqlparse>=0.3.1 (from django->image)\n",
      "  Downloading sqlparse-0.5.3-py3-none-any.whl.metadata (3.9 kB)\n",
      "Requirement already satisfied: tzdata in c:\\users\\nilay\\anaconda3\\lib\\site-packages (from django->image) (2023.3)\n",
      "Downloading django-5.2.3-py3-none-any.whl (8.3 MB)\n",
      "   ---------------------------------------- 0.0/8.3 MB ? eta -:--:--\n",
      "   ----- ---------------------------------- 1.0/8.3 MB 6.3 MB/s eta 0:00:02\n",
      "   ------------ --------------------------- 2.6/8.3 MB 6.9 MB/s eta 0:00:01\n",
      "   ------------------------- -------------- 5.2/8.3 MB 8.2 MB/s eta 0:00:01\n",
      "   ------------------------------------ --- 7.6/8.3 MB 9.0 MB/s eta 0:00:01\n",
      "   ---------------------------------------  8.1/8.3 MB 9.3 MB/s eta 0:00:01\n",
      "   ---------------------------------------- 8.3/8.3 MB 7.0 MB/s eta 0:00:00\n",
      "Downloading asgiref-3.8.1-py3-none-any.whl (23 kB)\n",
      "Downloading sqlparse-0.5.3-py3-none-any.whl (44 kB)\n",
      "Building wheels for collected packages: image\n",
      "  Building wheel for image (setup.py): started\n",
      "  Building wheel for image (setup.py): finished with status 'done'\n",
      "  Created wheel for image: filename=image-1.5.33-py2.py3-none-any.whl size=19489 sha256=edd5acfb7777b1dc0adebb05fcd71f3a8722b04649620a142a7c757acdf1f0b6\n",
      "  Stored in directory: c:\\users\\nilay\\appdata\\local\\pip\\cache\\wheels\\62\\40\\4f\\3c9a8d0f22a1a6f966975a460e5cb509a1e7dc42e2ce5d9a6d\n",
      "Successfully built image\n",
      "Installing collected packages: sqlparse, asgiref, django, image\n",
      "\n",
      "   ---------------------------------------- 0/4 [sqlparse]\n",
      "   ---------------------------------------- 0/4 [sqlparse]\n",
      "   ---------- ----------------------------- 1/4 [asgiref]\n",
      "   -------------------- ------------------- 2/4 [django]\n",
      "   -------------------- ------------------- 2/4 [django]\n",
      "   -------------------- ------------------- 2/4 [django]\n",
      "   -------------------- ------------------- 2/4 [django]\n",
      "   -------------------- ------------------- 2/4 [django]\n",
      "   -------------------- ------------------- 2/4 [django]\n",
      "   -------------------- ------------------- 2/4 [django]\n",
      "   -------------------- ------------------- 2/4 [django]\n",
      "   -------------------- ------------------- 2/4 [django]\n",
      "   -------------------- ------------------- 2/4 [django]\n",
      "   -------------------- ------------------- 2/4 [django]\n",
      "   -------------------- ------------------- 2/4 [django]\n",
      "   -------------------- ------------------- 2/4 [django]\n",
      "   -------------------- ------------------- 2/4 [django]\n",
      "   -------------------- ------------------- 2/4 [django]\n",
      "   -------------------- ------------------- 2/4 [django]\n",
      "   -------------------- ------------------- 2/4 [django]\n",
      "   -------------------- ------------------- 2/4 [django]\n",
      "   -------------------- ------------------- 2/4 [django]\n",
      "   -------------------- ------------------- 2/4 [django]\n",
      "   -------------------- ------------------- 2/4 [django]\n",
      "   -------------------- ------------------- 2/4 [django]\n",
      "   -------------------- ------------------- 2/4 [django]\n",
      "   -------------------- ------------------- 2/4 [django]\n",
      "   -------------------- ------------------- 2/4 [django]\n",
      "   -------------------- ------------------- 2/4 [django]\n",
      "   -------------------- ------------------- 2/4 [django]\n",
      "   -------------------- ------------------- 2/4 [django]\n",
      "   -------------------- ------------------- 2/4 [django]\n",
      "   -------------------- ------------------- 2/4 [django]\n",
      "   -------------------- ------------------- 2/4 [django]\n",
      "   -------------------- ------------------- 2/4 [django]\n",
      "   -------------------- ------------------- 2/4 [django]\n",
      "   -------------------- ------------------- 2/4 [django]\n",
      "   -------------------- ------------------- 2/4 [django]\n",
      "   -------------------- ------------------- 2/4 [django]\n",
      "   -------------------- ------------------- 2/4 [django]\n",
      "   -------------------- ------------------- 2/4 [django]\n",
      "   -------------------- ------------------- 2/4 [django]\n",
      "   -------------------- ------------------- 2/4 [django]\n",
      "   -------------------- ------------------- 2/4 [django]\n",
      "   -------------------- ------------------- 2/4 [django]\n",
      "   -------------------- ------------------- 2/4 [django]\n",
      "   -------------------- ------------------- 2/4 [django]\n",
      "   -------------------- ------------------- 2/4 [django]\n",
      "   -------------------- ------------------- 2/4 [django]\n",
      "   -------------------- ------------------- 2/4 [django]\n",
      "   -------------------- ------------------- 2/4 [django]\n",
      "   -------------------- ------------------- 2/4 [django]\n",
      "   -------------------- ------------------- 2/4 [django]\n",
      "   -------------------- ------------------- 2/4 [django]\n",
      "   -------------------- ------------------- 2/4 [django]\n",
      "   -------------------- ------------------- 2/4 [django]\n",
      "   -------------------- ------------------- 2/4 [django]\n",
      "   -------------------- ------------------- 2/4 [django]\n",
      "   -------------------- ------------------- 2/4 [django]\n",
      "   -------------------- ------------------- 2/4 [django]\n",
      "   -------------------- ------------------- 2/4 [django]\n",
      "   -------------------- ------------------- 2/4 [django]\n",
      "   -------------------- ------------------- 2/4 [django]\n",
      "   -------------------- ------------------- 2/4 [django]\n",
      "   -------------------- ------------------- 2/4 [django]\n",
      "   -------------------- ------------------- 2/4 [django]\n",
      "   -------------------- ------------------- 2/4 [django]\n",
      "   -------------------- ------------------- 2/4 [django]\n",
      "   -------------------- ------------------- 2/4 [django]\n",
      "   -------------------- ------------------- 2/4 [django]\n",
      "   -------------------- ------------------- 2/4 [django]\n",
      "   -------------------- ------------------- 2/4 [django]\n",
      "   -------------------- ------------------- 2/4 [django]\n",
      "   -------------------- ------------------- 2/4 [django]\n",
      "   -------------------- ------------------- 2/4 [django]\n",
      "   -------------------- ------------------- 2/4 [django]\n",
      "   -------------------- ------------------- 2/4 [django]\n",
      "   -------------------- ------------------- 2/4 [django]\n",
      "   -------------------- ------------------- 2/4 [django]\n",
      "   -------------------- ------------------- 2/4 [django]\n",
      "   -------------------- ------------------- 2/4 [django]\n",
      "   -------------------- ------------------- 2/4 [django]\n",
      "   -------------------- ------------------- 2/4 [django]\n",
      "   -------------------- ------------------- 2/4 [django]\n",
      "   -------------------- ------------------- 2/4 [django]\n",
      "   -------------------- ------------------- 2/4 [django]\n",
      "   -------------------- ------------------- 2/4 [django]\n",
      "   -------------------- ------------------- 2/4 [django]\n",
      "   -------------------- ------------------- 2/4 [django]\n",
      "   -------------------- ------------------- 2/4 [django]\n",
      "   -------------------- ------------------- 2/4 [django]\n",
      "   -------------------- ------------------- 2/4 [django]\n",
      "   -------------------- ------------------- 2/4 [django]\n",
      "   -------------------- ------------------- 2/4 [django]\n",
      "   -------------------- ------------------- 2/4 [django]\n",
      "   -------------------- ------------------- 2/4 [django]\n",
      "   -------------------- ------------------- 2/4 [django]\n",
      "   -------------------- ------------------- 2/4 [django]\n",
      "   -------------------- ------------------- 2/4 [django]\n",
      "   -------------------- ------------------- 2/4 [django]\n",
      "   -------------------- ------------------- 2/4 [django]\n",
      "   -------------------- ------------------- 2/4 [django]\n",
      "   -------------------- ------------------- 2/4 [django]\n",
      "   -------------------- ------------------- 2/4 [django]\n",
      "   -------------------- ------------------- 2/4 [django]\n",
      "   -------------------- ------------------- 2/4 [django]\n",
      "   -------------------- ------------------- 2/4 [django]\n",
      "   -------------------- ------------------- 2/4 [django]\n",
      "   -------------------- ------------------- 2/4 [django]\n",
      "   -------------------- ------------------- 2/4 [django]\n",
      "   -------------------- ------------------- 2/4 [django]\n",
      "   -------------------- ------------------- 2/4 [django]\n",
      "   -------------------- ------------------- 2/4 [django]\n",
      "   -------------------- ------------------- 2/4 [django]\n",
      "   -------------------- ------------------- 2/4 [django]\n",
      "   -------------------- ------------------- 2/4 [django]\n",
      "   -------------------- ------------------- 2/4 [django]\n",
      "   -------------------- ------------------- 2/4 [django]\n",
      "   -------------------- ------------------- 2/4 [django]\n",
      "   -------------------- ------------------- 2/4 [django]\n",
      "   -------------------- ------------------- 2/4 [django]\n",
      "   -------------------- ------------------- 2/4 [django]\n",
      "   -------------------- ------------------- 2/4 [django]\n",
      "   -------------------- ------------------- 2/4 [django]\n",
      "   -------------------- ------------------- 2/4 [django]\n",
      "   ------------------------------ --------- 3/4 [image]\n",
      "   ------------------------------ --------- 3/4 [image]\n",
      "   ---------------------------------------- 4/4 [image]\n",
      "\n",
      "Successfully installed asgiref-3.8.1 django-5.2.3 image-1.5.33 sqlparse-0.5.3\n",
      "Note: you may need to restart the kernel to use updated packages.\n"
     ]
    },
    {
     "name": "stderr",
     "output_type": "stream",
     "text": [
      "  DEPRECATION: Building 'image' using the legacy setup.py bdist_wheel mechanism, which will be removed in a future version. pip 25.3 will enforce this behaviour change. A possible replacement is to use the standardized build interface by setting the `--use-pep517` option, (possibly combined with `--no-build-isolation`), or adding a `pyproject.toml` file to the source tree of 'image'. Discussion can be found at https://github.com/pypa/pip/issues/6334\n"
     ]
    }
   ],
   "source": [
    "pip install image"
   ]
  },
  {
   "cell_type": "code",
   "execution_count": 4,
   "id": "c59d5f40",
   "metadata": {},
   "outputs": [],
   "source": [
    "import qrcode\n",
    "import image\n",
    "\n",
    "qrCode = qrcode.QRCode(version=1,\n",
    "    error_correction=qrcode.constants.ERROR_CORRECT_L,\n",
    "    box_size=8,\n",
    "    border=2)"
   ]
  },
  {
   "cell_type": "code",
   "execution_count": 5,
   "id": "320e7b19",
   "metadata": {},
   "outputs": [],
   "source": [
    "data = 'link for which u want to make the QR '\n", 
    "qrCode.add_data(data)\n",
    "qrCode.make(fit=True)"
   ]
  },
  {
   "cell_type": "code",
   "execution_count": 6,
   "id": "d1a7cab9",
   "metadata": {},
   "outputs": [],
   "source": [
    "myQRCode = qrCode.make_image(fill='black',back_color='white')\n",
    "myQRCode.save('QR.png')"
   ]
  },
  {
   "cell_type": "code",
   "execution_count": 7,
   "id": "cefdec92",
   "metadata": {},
   "outputs": [
    {
     "data": {
      "image/png": "[encoded data removed]",
      "text/plain": [
       "<IPython.core.display.Image object>"
      ]
     },
     "metadata": {},
     "output_type": "display_data"
    }
   ],
   "source": [
    "from IPython.display import display, Image\n",
    "display(Image(filename='QR.png'))"
   ]
  },
  {
   "cell_type": "markdown",
   "id": "618bc0d5",
   "metadata": {},
   "source": [
    "You can simply scan this QRCode and we can connect on LinkedIn! Cheers!"
   ]
  },
  {
   "cell_type": "code",
   "execution_count": null,
   "id": "f37d1618",
   "metadata": {},
   "outputs": [],
   "source": []
  }
 ],
 "metadata": {
  "kernelspec": {
   "display_name": "Python 3 (ipykernel)",
   "language": "python",
   "name": "python3"
  },
  "language_info": {
   "codemirror_mode": {
    "name": "ipython",
    "version": 3
   },
   "file_extension": ".py",
   "mimetype": "text/x-python",
   "name": "python",
   "nbconvert_exporter": "python",
   "pygments_lexer": "ipython3",
   "version": "3.11.5"
  }
 },
 "nbformat": 4,
 "nbformat_minor": 5
}
